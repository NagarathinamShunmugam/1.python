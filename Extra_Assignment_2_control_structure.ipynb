{
 "cells": [
  {
   "cell_type": "code",
   "execution_count": 5,
   "id": "ad4b3318-f881-4b44-990b-b20c9c2a32cb",
   "metadata": {},
   "outputs": [
    {
     "name": "stdout",
     "output_type": "stream",
     "text": [
      "0\n",
      "1\n",
      "2\n",
      "3\n",
      "4\n",
      "5\n",
      "6\n",
      "7\n",
      "8\n",
      "9\n",
      "10\n",
      "11\n",
      "12\n",
      "13\n",
      "14\n",
      "15\n",
      "16\n",
      "17\n",
      "18\n",
      "19\n"
     ]
    }
   ],
   "source": [
    "# print 0 to 20 by using range\n",
    "for temp in range(0,20):\n",
    "             print(temp)"
   ]
  },
  {
   "cell_type": "code",
   "execution_count": 3,
   "id": "a1e5ad44-a371-496c-a140-fbc5cf80142c",
   "metadata": {},
   "outputs": [
    {
     "name": "stdout",
     "output_type": "stream",
     "text": [
      "[10, 11, 12, 13, 14, 15, 16, 17, 18, 19]\n"
     ]
    }
   ],
   "source": [
    "# print range 10 to 20\n",
    "list1=range(10,20)\n",
    "print(list(list1))"
   ]
  },
  {
   "cell_type": "code",
   "execution_count": 7,
   "id": "e1802e29-f0b9-4527-b3a1-9a3c681552f6",
   "metadata": {},
   "outputs": [
    {
     "name": "stdout",
     "output_type": "stream",
     "text": [
      "[10, 20, 14, 55, 43, 87, 76]\n",
      "Number of item in the List2: 7\n"
     ]
    }
   ],
   "source": [
    "# Print number of items in the list by using 'len'\n",
    "List2=[10, 20, 14, 55, 43, 87, 76]\n",
    "print(List2)\n",
    "print(\"Number of item in the List2:\",len(List2))"
   ]
  },
  {
   "cell_type": "code",
   "execution_count": 17,
   "id": "08ea7197-6f41-483c-8428-f30f4e1d08eb",
   "metadata": {},
   "outputs": [
    {
     "name": "stdin",
     "output_type": "stream",
     "text": [
      "Some word:  Artificial Intelligence\n"
     ]
    },
    {
     "name": "stdout",
     "output_type": "stream",
     "text": [
      "A\n",
      "Ar\n",
      "Art\n",
      "Arti\n",
      "Artif\n",
      "Artifi\n",
      "Artific\n",
      "Artifici\n",
      "Artificia\n",
      "Artificial\n",
      "Artificial \n",
      "Artificial I\n",
      "Artificial In\n",
      "Artificial Int\n",
      "Artificial Inte\n",
      "Artificial Intel\n",
      "Artificial Intell\n",
      "Artificial Intelli\n",
      "Artificial Intellig\n",
      "Artificial Intellige\n",
      "Artificial Intelligen\n",
      "Artificial Intelligenc\n",
      "Artificial Intelligence\n"
     ]
    }
   ],
   "source": [
    "\n",
    "word = input('Some word: ')\n",
    "for i in range(0, len(word)):\n",
    "    print(word[:i+1])"
   ]
  },
  {
   "cell_type": "code",
   "execution_count": null,
   "id": "b2714276-8f10-4ea7-ab93-d3b9e49138b1",
   "metadata": {},
   "outputs": [],
   "source": []
  },
  {
   "cell_type": "code",
   "execution_count": null,
   "id": "313338c7-0ebf-49ea-9a72-84481c2bac74",
   "metadata": {},
   "outputs": [],
   "source": []
  },
  {
   "cell_type": "code",
   "execution_count": null,
   "id": "958ebfe6-b323-4590-93ff-a5668982aeea",
   "metadata": {},
   "outputs": [],
   "source": []
  },
  {
   "cell_type": "code",
   "execution_count": null,
   "id": "5b9b462a-e617-4ae0-8dab-3bd17fb7dc07",
   "metadata": {},
   "outputs": [],
   "source": []
  },
  {
   "cell_type": "code",
   "execution_count": 9,
   "id": "d3de1162-b8c2-4818-8fec-6adadcf04ad3",
   "metadata": {},
   "outputs": [
    {
     "name": "stdout",
     "output_type": "stream",
     "text": [
      "Artificial Intelligence\n",
      "A\n",
      "r\n",
      "t\n",
      "i\n",
      "f\n",
      "i\n",
      "c\n",
      "i\n",
      "a\n",
      "l\n",
      " \n",
      "I\n",
      "n\n",
      "t\n",
      "e\n",
      "l\n",
      "l\n",
      "i\n",
      "g\n",
      "e\n",
      "n\n",
      "c\n",
      "e\n"
     ]
    }
   ],
   "source": [
    "word=\"Artificial Intelligence\"\n",
    "print(word)\n",
    "for l in range(0,len(word)):\n",
    "    print(word[l])"
   ]
  },
  {
   "cell_type": "code",
   "execution_count": 21,
   "id": "18ad7f8b-33ea-4a16-9c32-889e206f950c",
   "metadata": {},
   "outputs": [
    {
     "name": "stdout",
     "output_type": "stream",
     "text": [
      "[20, 10, 16, 19, 25, 1, 276, 188]\n",
      "19 is odd\n",
      "25 is odd\n",
      "1 is odd\n"
     ]
    }
   ],
   "source": [
    "# print Odd Numbers in the list\n",
    "List=[20,10,16,19,25,1,276,188]\n",
    "print(List)\n",
    "for num in List:\n",
    "    if((num%2)==1):\n",
    "        print(num,\"is odd\")"
   ]
  },
  {
   "cell_type": "code",
   "execution_count": null,
   "id": "e751c770-a689-4f0d-80be-d7be53a87cc3",
   "metadata": {},
   "outputs": [],
   "source": []
  },
  {
   "cell_type": "code",
   "execution_count": 23,
   "id": "4a39b6d4-d0d5-492b-a252-0986f4a66ae6",
   "metadata": {},
   "outputs": [
    {
     "name": "stdout",
     "output_type": "stream",
     "text": [
      "[20, 10, 16, 19, 25, 1, 276, 188]\n",
      "20 is Even\n",
      "10 is Even\n",
      "16 is Even\n",
      "276 is Even\n",
      "188 is Even\n"
     ]
    }
   ],
   "source": [
    "# print Even numbers in the list\n",
    "List=[20,10,16,19,25,1,276,188]\n",
    "print(List)\n",
    "for num in List:\n",
    "    if((num%2)==0):\n",
    "        print(num,\"is Even\")"
   ]
  },
  {
   "cell_type": "code",
   "execution_count": 3,
   "id": "c86c234e-2409-4c74-adfa-7160646cca5c",
   "metadata": {},
   "outputs": [
    {
     "name": "stdout",
     "output_type": "stream",
     "text": [
      "(1, 'Welcome', 2, 'Hope')\n"
     ]
    }
   ],
   "source": [
    "Tuple1 = (1,'Welcome', 2,'Hope')\n",
    "print(Tuple1)\n"
   ]
  },
  {
   "cell_type": "code",
   "execution_count": 7,
   "id": "4d658826-a9b1-43de-8717-5e9f1136b6aa",
   "metadata": {},
   "outputs": [
    {
     "name": "stdout",
     "output_type": "stream",
     "text": [
      "((0, 1, 2, 3), ('python', 'HOPE'))\n"
     ]
    }
   ],
   "source": [
    "Tuple1=(0, 1, 2, 3)\n",
    "Tuple2=('python', 'HOPE')\n",
    "Tuple3=Tuple1,Tuple2\n",
    "print(Tuple3)"
   ]
  },
  {
   "cell_type": "code",
   "execution_count": null,
   "id": "35fe564e-80ae-4224-8ab7-968ae15a9c31",
   "metadata": {},
   "outputs": [],
   "source": []
  },
  {
   "cell_type": "code",
   "execution_count": null,
   "id": "f92a4718-46be-48f2-8a36-7d6165fcbd19",
   "metadata": {},
   "outputs": [],
   "source": []
  },
  {
   "cell_type": "code",
   "execution_count": null,
   "id": "0b3dc8fb-38fe-4c56-a98e-369dae79cb8f",
   "metadata": {},
   "outputs": [],
   "source": []
  },
  {
   "cell_type": "code",
   "execution_count": null,
   "id": "944af6dc-d481-4f5a-be53-c1a0ac6d343d",
   "metadata": {},
   "outputs": [],
   "source": []
  },
  {
   "cell_type": "code",
   "execution_count": null,
   "id": "0c8a4fc8-5e2c-410e-8ef4-4ef228a91d0b",
   "metadata": {},
   "outputs": [],
   "source": []
  },
  {
   "cell_type": "code",
   "execution_count": null,
   "id": "647eba50-9c4a-491c-a399-a0d8627f464d",
   "metadata": {},
   "outputs": [],
   "source": []
  },
  {
   "cell_type": "code",
   "execution_count": null,
   "id": "ddfcc552-1ed0-4a75-a9bd-79ea1f135098",
   "metadata": {},
   "outputs": [],
   "source": []
  },
  {
   "cell_type": "code",
   "execution_count": null,
   "id": "97647537-e411-40d2-b290-3c45cdfb9890",
   "metadata": {},
   "outputs": [],
   "source": []
  },
  {
   "cell_type": "code",
   "execution_count": null,
   "id": "741db6d1-e22b-45f7-a045-6e1870570199",
   "metadata": {},
   "outputs": [],
   "source": []
  }
 ],
 "metadata": {
  "kernelspec": {
   "display_name": "Python 3 (ipykernel)",
   "language": "python",
   "name": "python3"
  },
  "language_info": {
   "codemirror_mode": {
    "name": "ipython",
    "version": 3
   },
   "file_extension": ".py",
   "mimetype": "text/x-python",
   "name": "python",
   "nbconvert_exporter": "python",
   "pygments_lexer": "ipython3",
   "version": "3.12.7"
  }
 },
 "nbformat": 4,
 "nbformat_minor": 5
}
