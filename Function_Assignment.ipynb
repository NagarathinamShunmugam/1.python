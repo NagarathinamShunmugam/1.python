{
 "cells": [
  {
   "cell_type": "code",
   "execution_count": 23,
   "id": "7ab1ac03-afd7-4d83-af7a-d50d574526c4",
   "metadata": {},
   "outputs": [
    {
     "name": "stdout",
     "output_type": "stream",
     "text": [
      "Sub-fields in AI are:\n",
      "Machine Learning\n",
      "Neural Networks\n",
      "Vision\n",
      "Robotics\n",
      "Speech Processing\n",
      "Natural Language Processing\n"
     ]
    }
   ],
   "source": [
    "\n",
    "print(\"Sub-fields in AI are:\")\n",
    "fields=[\"Machine Learning\",\"Neural Networks\",\"Vision\",\"Robotics\",\"Speech Processing\",\"Natural Language Processing\"]\n",
    "for subfield in fields:\n",
    "    print(subfield)"
   ]
  },
  {
   "cell_type": "code",
   "execution_count": null,
   "id": "379a91c9-35ca-4a16-a575-bb7bc5f459d2",
   "metadata": {},
   "outputs": [],
   "source": [
    "# Create a function, and list out the items in the list"
   ]
  },
  {
   "cell_type": "code",
   "execution_count": null,
   "id": "464e2dd6-21ee-46dc-aa8e-39220d38455f",
   "metadata": {},
   "outputs": [],
   "source": []
  },
  {
   "cell_type": "code",
   "execution_count": null,
   "id": "ca0cd5ea-769f-42c6-9792-bad9384cc1a2",
   "metadata": {},
   "outputs": [],
   "source": []
  },
  {
   "cell_type": "code",
   "execution_count": null,
   "id": "edab819f-99fa-408a-a6d3-6504c2cda41c",
   "metadata": {},
   "outputs": [],
   "source": []
  },
  {
   "cell_type": "code",
   "execution_count": 25,
   "id": "56d34eb5-bbe0-4946-bdad-f956c545f683",
   "metadata": {},
   "outputs": [],
   "source": [
    "def Subfields():\n",
    "    fields=[\"Machine Learning\",\"Neural Networks\",\"Vision\",\"Robotics\",\"Speech Processing\",\"Natural Language Processing\"]\n",
    "    print(\"Sub-fields in AI are:\")\n",
    "    for subField in fields:\n",
    "        print(subField)"
   ]
  },
  {
   "cell_type": "code",
   "execution_count": null,
   "id": "d5b6e157-54e4-4fee-8d13-07b1641d41a1",
   "metadata": {},
   "outputs": [],
   "source": []
  },
  {
   "cell_type": "code",
   "execution_count": 27,
   "id": "5e40c5e3-8ffe-4504-9166-7a0144c1c8e7",
   "metadata": {},
   "outputs": [
    {
     "name": "stdout",
     "output_type": "stream",
     "text": [
      "Sub-fields in AI are:\n",
      "Machine Learning\n",
      "Neural Networks\n",
      "Vision\n",
      "Robotics\n",
      "Speech Processing\n",
      "Natural Language Processing\n"
     ]
    }
   ],
   "source": [
    "Subfields()"
   ]
  },
  {
   "cell_type": "code",
   "execution_count": null,
   "id": "7873661a-9090-4d91-a454-9ab75637bac5",
   "metadata": {},
   "outputs": [],
   "source": [
    "# Create a function that checks whether the given number is Odd or Even"
   ]
  },
  {
   "cell_type": "code",
   "execution_count": 31,
   "id": "deb76108-7da3-4f1c-9640-845ee88def6c",
   "metadata": {},
   "outputs": [
    {
     "name": "stdin",
     "output_type": "stream",
     "text": [
      "Enter a number: 52452\n"
     ]
    },
    {
     "name": "stdout",
     "output_type": "stream",
     "text": [
      "52452  is Even number\n"
     ]
    }
   ],
   "source": [
    "Oddeven=int(input(\"Enter a number:\"))\n",
    "if((Oddeven%2)==0):\n",
    "    print(Oddeven,\" is Even number\")\n",
    "else:\n",
    "    print(Oddeven,\" is Odd number\")\n"
   ]
  },
  {
   "cell_type": "code",
   "execution_count": 43,
   "id": "c458a8d0-0326-4042-b7a8-2a9948250e0a",
   "metadata": {},
   "outputs": [
    {
     "name": "stdin",
     "output_type": "stream",
     "text": [
      "Enter a number: 53486\n"
     ]
    },
    {
     "name": "stdout",
     "output_type": "stream",
     "text": [
      "53486  is Even number\n"
     ]
    }
   ],
   "source": [
    "def OddEven():\n",
    "    Oddeven=int(input(\"Enter a number:\"))\n",
    "    if((Oddeven%2)==0):\n",
    "        print(Oddeven,\" is Even number\")\n",
    "    else:\n",
    "        print(Oddeven,\" is Odd number\")\n",
    "    \n",
    "OddEven()\n",
    "        "
   ]
  },
  {
   "cell_type": "code",
   "execution_count": null,
   "id": "1ff5e761-c722-435c-87ee-2c22992a1385",
   "metadata": {},
   "outputs": [],
   "source": [
    "# Create a function that tells elegibility of marriage for male and female according to their age limit like 21 for male and 18 for female"
   ]
  },
  {
   "cell_type": "code",
   "execution_count": 61,
   "id": "70773413-a324-4e23-826c-74e2c29fd630",
   "metadata": {},
   "outputs": [
    {
     "name": "stdin",
     "output_type": "stream",
     "text": [
      "Your Gender: Female\n",
      "Your Age: 16\n"
     ]
    },
    {
     "name": "stdout",
     "output_type": "stream",
     "text": [
      "NOT ELIGIBLE\n"
     ]
    }
   ],
   "source": [
    "Gender=input(\"Your Gender:\")\n",
    "Age=int(input(\"Your Age:\"))\n",
    "if(Gender==\"Male\" and Age>=21):\n",
    "    print(\"ELIGIBLE\")\n",
    "elif(Gender==\"Male\" and Age<21):\n",
    "    print(\"NOT ELIGIBLE\")\n",
    "elif(Gender==\"Female\" and Age>=18):\n",
    "    print(\"ELIGIBLE\")\n",
    "else:\n",
    "    print(\"NOT ELIGIBLE\")\n",
    "    \n",
    "        "
   ]
  },
  {
   "cell_type": "code",
   "execution_count": 63,
   "id": "1ce6059b-fd6c-4636-88e7-8f3ec7675408",
   "metadata": {},
   "outputs": [
    {
     "name": "stdin",
     "output_type": "stream",
     "text": [
      "Your Gender: Male\n",
      "Your Age: 27\n"
     ]
    },
    {
     "name": "stdout",
     "output_type": "stream",
     "text": [
      "ELIGIBLE\n"
     ]
    }
   ],
   "source": [
    "def Elegible():\n",
    "    Gender=input(\"Your Gender:\")\n",
    "    Age=int(input(\"Your Age:\"))\n",
    "    if(Gender==\"Male\" and Age>=21):\n",
    "        print(\"ELIGIBLE\")\n",
    "    elif(Gender==\"Male\" and Age<21):\n",
    "        print(\"NOT ELIGIBLE\")\n",
    "    elif(Gender==\"Female\" and Age>=18):\n",
    "        print(\"ELIGIBLE\")\n",
    "    else:\n",
    "        print(\"NOT ELIGIBLE\")\n",
    "Elegible()"
   ]
  },
  {
   "cell_type": "code",
   "execution_count": null,
   "id": "8f5cc727-16b5-42c5-b2c0-c77c457f7717",
   "metadata": {},
   "outputs": [],
   "source": [
    "# calculate the percentage of your 10th mark"
   ]
  },
  {
   "cell_type": "code",
   "execution_count": null,
   "id": "ace61c0d-f5e2-4dae-a9f2-15049592b7c8",
   "metadata": {},
   "outputs": [],
   "source": []
  },
  {
   "cell_type": "code",
   "execution_count": 67,
   "id": "120e9dbf-eb1b-4672-9816-b75330d8bd76",
   "metadata": {},
   "outputs": [
    {
     "name": "stdin",
     "output_type": "stream",
     "text": [
      "Subject1 94\n",
      "Subject2 87\n",
      "Subject3 89\n",
      "Subject4 87\n",
      "Subject5 94\n"
     ]
    },
    {
     "name": "stdout",
     "output_type": "stream",
     "text": [
      "Total: 451\n",
      "Percentage : 90.2\n"
     ]
    }
   ],
   "source": [
    "Subject1=int(input(\"Subject1\"))\n",
    "Subject2=int(input(\"Subject2\"))\n",
    "Subject3=int(input(\"Subject3\"))\n",
    "Subject4=int(input(\"Subject4\"))\n",
    "Subject5=int(input(\"Subject5\"))\n",
    "def percentage():\n",
    "    Total=Subject1+Subject2+Subject3+Subject4+Subject5\n",
    "    print(\"Total:\",Total)\n",
    "    print(\"Percentage :\",Total/5)\n",
    "percentage()\n"
   ]
  },
  {
   "cell_type": "code",
   "execution_count": null,
   "id": "a52634cb-4fa9-445c-97d1-674e54f472c9",
   "metadata": {},
   "outputs": [],
   "source": [
    "#print area and perimeter of triangle using functions"
   ]
  },
  {
   "cell_type": "code",
   "execution_count": null,
   "id": "7826aac8-37de-4333-add3-b74b49f29b7c",
   "metadata": {},
   "outputs": [],
   "source": [
    "Height:32\n",
    "Breadth:34\n",
    "Area formula: (Height*Breadth)/2\n",
    "Area of Triangle: 544.0\n",
    "Height1:2\n",
    "Height2:4\n",
    "Breadth:4\n",
    "Perimeter formula: Height1+Height2+Breadth\n",
    "Perimeter of Triangle: 10"
   ]
  },
  {
   "cell_type": "code",
   "execution_count": 73,
   "id": "49d2e6d9-98c8-4fef-b319-c34e727aa529",
   "metadata": {},
   "outputs": [
    {
     "name": "stdin",
     "output_type": "stream",
     "text": [
      "Height of triagle:  25\n",
      "Breadth of triagle: 36\n"
     ]
    },
    {
     "name": "stdout",
     "output_type": "stream",
     "text": [
      "Area of Triangle: 450.0\n"
     ]
    },
    {
     "name": "stdin",
     "output_type": "stream",
     "text": [
      "SideA: 16\n",
      "SideC: 15\n"
     ]
    },
    {
     "name": "stdout",
     "output_type": "stream",
     "text": [
      "Perimeter of Triangle: 67\n"
     ]
    }
   ],
   "source": [
    "def triagle():\n",
    "    Height=int(input(\"Height of triagle:\"))\n",
    "    Breadth=int(input(\"Breadth of triagle:\"))\n",
    "    Area=(Height*Breadth)/2\n",
    "    print(\"Area of Triangle:\",Area)\n",
    "    SideA=int(input(\"SideA:\"))\n",
    "    SideC=int(input(\"SideC:\"))\n",
    "    Perimeter=SideA+Breadth+SideC\n",
    "    print(\"Perimeter of Triangle:\",Perimeter)\n",
    "\n",
    "triagle()\n"
   ]
  },
  {
   "cell_type": "code",
   "execution_count": null,
   "id": "64743a9e-9aaa-457e-9616-96cca3e56319",
   "metadata": {},
   "outputs": [],
   "source": []
  },
  {
   "cell_type": "code",
   "execution_count": null,
   "id": "f680e457-87a4-4399-ab9c-c706b88256db",
   "metadata": {},
   "outputs": [],
   "source": []
  },
  {
   "cell_type": "code",
   "execution_count": null,
   "id": "af342f14-b9fc-4b79-aa61-8a561efffd15",
   "metadata": {},
   "outputs": [],
   "source": []
  },
  {
   "cell_type": "code",
   "execution_count": null,
   "id": "170072bc-9026-4fda-9313-52cce0db658a",
   "metadata": {},
   "outputs": [],
   "source": []
  },
  {
   "cell_type": "code",
   "execution_count": null,
   "id": "279a81b7-ce5e-4d36-9329-5506804a8a8b",
   "metadata": {},
   "outputs": [],
   "source": []
  },
  {
   "cell_type": "code",
   "execution_count": null,
   "id": "dac12d84-9b47-4c4e-89a7-b98b6c2894b0",
   "metadata": {},
   "outputs": [],
   "source": []
  },
  {
   "cell_type": "code",
   "execution_count": null,
   "id": "1a119692-3cd8-49b1-8d4c-9f92adf2fa81",
   "metadata": {},
   "outputs": [],
   "source": []
  },
  {
   "cell_type": "code",
   "execution_count": null,
   "id": "119f3c8e-a9ae-47ad-bffd-83d466ca975f",
   "metadata": {},
   "outputs": [],
   "source": []
  },
  {
   "cell_type": "code",
   "execution_count": null,
   "id": "a114280a-dc70-4b3f-8c34-09f1fadcfcf8",
   "metadata": {},
   "outputs": [],
   "source": []
  },
  {
   "cell_type": "code",
   "execution_count": null,
   "id": "1cbe0300-c6b0-422a-b014-91db8e027ef9",
   "metadata": {},
   "outputs": [],
   "source": []
  },
  {
   "cell_type": "code",
   "execution_count": null,
   "id": "9f2c61fc-3119-499b-94e7-7d50b6bf9835",
   "metadata": {},
   "outputs": [],
   "source": []
  },
  {
   "cell_type": "code",
   "execution_count": null,
   "id": "73d8892c-38d5-4d1f-9f50-561a8fd1c46b",
   "metadata": {},
   "outputs": [],
   "source": []
  },
  {
   "cell_type": "code",
   "execution_count": null,
   "id": "0d9defc3-0b28-4602-9502-e77eec890afe",
   "metadata": {},
   "outputs": [],
   "source": []
  },
  {
   "cell_type": "code",
   "execution_count": null,
   "id": "103e522c-9a2f-41d7-ac5a-d917e7342a87",
   "metadata": {},
   "outputs": [],
   "source": []
  },
  {
   "cell_type": "code",
   "execution_count": null,
   "id": "f6594c01-8571-43ef-a782-6ba66a6111e3",
   "metadata": {},
   "outputs": [],
   "source": []
  },
  {
   "cell_type": "code",
   "execution_count": null,
   "id": "e0344634-694c-4ae6-9012-02b13cce3468",
   "metadata": {},
   "outputs": [],
   "source": []
  },
  {
   "cell_type": "code",
   "execution_count": null,
   "id": "3e3aac20-d454-4cfe-924e-e971d0cfea0a",
   "metadata": {},
   "outputs": [],
   "source": []
  },
  {
   "cell_type": "code",
   "execution_count": null,
   "id": "8f617ba9-aaba-4558-aef8-7f8ca77d6716",
   "metadata": {},
   "outputs": [],
   "source": []
  }
 ],
 "metadata": {
  "kernelspec": {
   "display_name": "Python 3 (ipykernel)",
   "language": "python",
   "name": "python3"
  },
  "language_info": {
   "codemirror_mode": {
    "name": "ipython",
    "version": 3
   },
   "file_extension": ".py",
   "mimetype": "text/x-python",
   "name": "python",
   "nbconvert_exporter": "python",
   "pygments_lexer": "ipython3",
   "version": "3.12.7"
  }
 },
 "nbformat": 4,
 "nbformat_minor": 5
}
