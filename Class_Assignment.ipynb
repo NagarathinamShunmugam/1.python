{
 "cells": [
  {
   "cell_type": "code",
   "execution_count": 5,
   "id": "379a91c9-35ca-4a16-a575-bb7bc5f459d2",
   "metadata": {},
   "outputs": [],
   "source": [
    "# Create a class function, and list out the items in the list\n",
    "class SubfieldsInAI():\n",
    "    def Subfields():\n",
    "        fields=[\"Machine Learning\",\"Neural Networks\",\"Vision\",\"Robotics\",\"Speech Processing\",\"Natural Language Processing\"]\n",
    "        print(\"Sub-fields in AI are:\")\n",
    "        for subField in fields:\n",
    "            print(subField)"
   ]
  },
  {
   "cell_type": "code",
   "execution_count": 7,
   "id": "48d61091-7b32-4a74-8789-e77ef10b7ae8",
   "metadata": {},
   "outputs": [
    {
     "name": "stdout",
     "output_type": "stream",
     "text": [
      "Sub-fields in AI are:\n",
      "Machine Learning\n",
      "Neural Networks\n",
      "Vision\n",
      "Robotics\n",
      "Speech Processing\n",
      "Natural Language Processing\n"
     ]
    }
   ],
   "source": [
    "SubfieldsInAI.Subfields()"
   ]
  },
  {
   "cell_type": "code",
   "execution_count": null,
   "id": "7873661a-9090-4d91-a454-9ab75637bac5",
   "metadata": {},
   "outputs": [],
   "source": [
    "# Create a class and function that checks whether the given number is Odd or Even"
   ]
  },
  {
   "cell_type": "code",
   "execution_count": 9,
   "id": "c458a8d0-0326-4042-b7a8-2a9948250e0a",
   "metadata": {},
   "outputs": [
    {
     "name": "stdin",
     "output_type": "stream",
     "text": [
      "Enter a number: 5679\n"
     ]
    },
    {
     "name": "stdout",
     "output_type": "stream",
     "text": [
      "5679  is Odd number\n"
     ]
    }
   ],
   "source": [
    "class OddEven():\n",
    "    def OddEven():\n",
    "        Oddeven=int(input(\"Enter a number:\"))\n",
    "        if((Oddeven%2)==0):\n",
    "            print(Oddeven,\" is Even number\")\n",
    "        else:\n",
    "            print(Oddeven,\" is Odd number\")\n",
    "        \n",
    "OddEven.OddEven()\n",
    "        "
   ]
  },
  {
   "cell_type": "code",
   "execution_count": null,
   "id": "1ff5e761-c722-435c-87ee-2c22992a1385",
   "metadata": {},
   "outputs": [],
   "source": [
    "# Create a class and function that tells elegibility of marriage for male and female according to their age limit like 21 for male and 18 for female"
   ]
  },
  {
   "cell_type": "code",
   "execution_count": 11,
   "id": "1ce6059b-fd6c-4636-88e7-8f3ec7675408",
   "metadata": {},
   "outputs": [
    {
     "name": "stdin",
     "output_type": "stream",
     "text": [
      "Your Gender: Male\n",
      "Your Age: 19\n"
     ]
    },
    {
     "name": "stdout",
     "output_type": "stream",
     "text": [
      "NOT ELIGIBLE\n"
     ]
    }
   ],
   "source": [
    "class ElegiblityForMarriage():\n",
    "    def Elegible():\n",
    "        Gender=input(\"Your Gender:\")\n",
    "        Age=int(input(\"Your Age:\"))\n",
    "        if(Gender==\"Male\" and Age>=21):\n",
    "            print(\"ELIGIBLE\")\n",
    "        elif(Gender==\"Male\" and Age<21):\n",
    "            print(\"NOT ELIGIBLE\")\n",
    "        elif(Gender==\"Female\" and Age>=18):\n",
    "            print(\"ELIGIBLE\")\n",
    "        else:\n",
    "            print(\"NOT ELIGIBLE\")\n",
    "ElegiblityForMarriage.Elegible()"
   ]
  },
  {
   "cell_type": "code",
   "execution_count": null,
   "id": "8f5cc727-16b5-42c5-b2c0-c77c457f7717",
   "metadata": {},
   "outputs": [],
   "source": [
    "# calculate the percentage of your 10th mark"
   ]
  },
  {
   "cell_type": "code",
   "execution_count": 15,
   "id": "6463f864-0e18-4715-9767-8e09609f12d1",
   "metadata": {},
   "outputs": [
    {
     "name": "stdin",
     "output_type": "stream",
     "text": [
      "Subject1 67\n",
      "Subject2 78\n",
      "Subject3 95\n",
      "Subject4 56\n",
      "Subject5 80\n"
     ]
    },
    {
     "name": "stdout",
     "output_type": "stream",
     "text": [
      "Total: 376\n",
      "Percentage : 75.2\n"
     ]
    }
   ],
   "source": [
    "class FindPercent():\n",
    "    def percentage():\n",
    "            Subject1=int(input(\"Subject1\"))\n",
    "            Subject2=int(input(\"Subject2\"))\n",
    "            Subject3=int(input(\"Subject3\"))\n",
    "            Subject4=int(input(\"Subject4\"))\n",
    "            Subject5=int(input(\"Subject5\"))\n",
    "            Total=Subject1+Subject2+Subject3+Subject4+Subject5\n",
    "            print(\"Total:\",Total)\n",
    "            print(\"Percentage :\",Total/5)\n",
    "\n",
    "FindPercent.percentage()"
   ]
  },
  {
   "cell_type": "code",
   "execution_count": null,
   "id": "a52634cb-4fa9-445c-97d1-674e54f472c9",
   "metadata": {},
   "outputs": [],
   "source": [
    "#print area and perimeter of triangle using class and functions"
   ]
  },
  {
   "cell_type": "code",
   "execution_count": 13,
   "id": "49d2e6d9-98c8-4fef-b319-c34e727aa529",
   "metadata": {},
   "outputs": [
    {
     "name": "stdin",
     "output_type": "stream",
     "text": [
      "Height of triagle: 45\n",
      "Breadth of triagle: 56\n"
     ]
    },
    {
     "name": "stdout",
     "output_type": "stream",
     "text": [
      "Area of Triangle: 1260.0\n"
     ]
    },
    {
     "name": "stdin",
     "output_type": "stream",
     "text": [
      "SideA: 35\n",
      "SideC: 45\n"
     ]
    },
    {
     "name": "stdout",
     "output_type": "stream",
     "text": [
      "Perimeter of Triangle: 136\n"
     ]
    }
   ],
   "source": [
    "class triangle():\n",
    "    def triagle():\n",
    "        Height=int(input(\"Height of triagle:\"))\n",
    "        Breadth=int(input(\"Breadth of triagle:\"))\n",
    "        Area=(Height*Breadth)/2\n",
    "        print(\"Area of Triangle:\",Area)\n",
    "        SideA=int(input(\"SideA:\"))\n",
    "        SideC=int(input(\"SideC:\"))\n",
    "        Perimeter=SideA+Breadth+SideC\n",
    "        print(\"Perimeter of Triangle:\",Perimeter)\n",
    "\n",
    "triangle.triagle()\n"
   ]
  },
  {
   "cell_type": "code",
   "execution_count": null,
   "id": "54692a1a-ba16-4373-b40a-bb3a1c03a97d",
   "metadata": {},
   "outputs": [],
   "source": []
  },
  {
   "cell_type": "code",
   "execution_count": null,
   "id": "64743a9e-9aaa-457e-9616-96cca3e56319",
   "metadata": {},
   "outputs": [],
   "source": []
  },
  {
   "cell_type": "code",
   "execution_count": null,
   "id": "f680e457-87a4-4399-ab9c-c706b88256db",
   "metadata": {},
   "outputs": [],
   "source": []
  },
  {
   "cell_type": "code",
   "execution_count": null,
   "id": "af342f14-b9fc-4b79-aa61-8a561efffd15",
   "metadata": {},
   "outputs": [],
   "source": []
  },
  {
   "cell_type": "code",
   "execution_count": null,
   "id": "170072bc-9026-4fda-9313-52cce0db658a",
   "metadata": {},
   "outputs": [],
   "source": []
  },
  {
   "cell_type": "code",
   "execution_count": null,
   "id": "279a81b7-ce5e-4d36-9329-5506804a8a8b",
   "metadata": {},
   "outputs": [],
   "source": []
  },
  {
   "cell_type": "code",
   "execution_count": null,
   "id": "dac12d84-9b47-4c4e-89a7-b98b6c2894b0",
   "metadata": {},
   "outputs": [],
   "source": []
  },
  {
   "cell_type": "code",
   "execution_count": null,
   "id": "1a119692-3cd8-49b1-8d4c-9f92adf2fa81",
   "metadata": {},
   "outputs": [],
   "source": []
  },
  {
   "cell_type": "code",
   "execution_count": null,
   "id": "119f3c8e-a9ae-47ad-bffd-83d466ca975f",
   "metadata": {},
   "outputs": [],
   "source": []
  },
  {
   "cell_type": "code",
   "execution_count": null,
   "id": "a114280a-dc70-4b3f-8c34-09f1fadcfcf8",
   "metadata": {},
   "outputs": [],
   "source": []
  },
  {
   "cell_type": "code",
   "execution_count": null,
   "id": "1cbe0300-c6b0-422a-b014-91db8e027ef9",
   "metadata": {},
   "outputs": [],
   "source": []
  },
  {
   "cell_type": "code",
   "execution_count": null,
   "id": "9f2c61fc-3119-499b-94e7-7d50b6bf9835",
   "metadata": {},
   "outputs": [],
   "source": []
  },
  {
   "cell_type": "code",
   "execution_count": null,
   "id": "73d8892c-38d5-4d1f-9f50-561a8fd1c46b",
   "metadata": {},
   "outputs": [],
   "source": []
  },
  {
   "cell_type": "code",
   "execution_count": null,
   "id": "0d9defc3-0b28-4602-9502-e77eec890afe",
   "metadata": {},
   "outputs": [],
   "source": []
  },
  {
   "cell_type": "code",
   "execution_count": null,
   "id": "103e522c-9a2f-41d7-ac5a-d917e7342a87",
   "metadata": {},
   "outputs": [],
   "source": []
  },
  {
   "cell_type": "code",
   "execution_count": null,
   "id": "f6594c01-8571-43ef-a782-6ba66a6111e3",
   "metadata": {},
   "outputs": [],
   "source": []
  },
  {
   "cell_type": "code",
   "execution_count": null,
   "id": "e0344634-694c-4ae6-9012-02b13cce3468",
   "metadata": {},
   "outputs": [],
   "source": []
  },
  {
   "cell_type": "code",
   "execution_count": null,
   "id": "3e3aac20-d454-4cfe-924e-e971d0cfea0a",
   "metadata": {},
   "outputs": [],
   "source": []
  },
  {
   "cell_type": "code",
   "execution_count": null,
   "id": "8f617ba9-aaba-4558-aef8-7f8ca77d6716",
   "metadata": {},
   "outputs": [],
   "source": []
  }
 ],
 "metadata": {
  "kernelspec": {
   "display_name": "Python 3 (ipykernel)",
   "language": "python",
   "name": "python3"
  },
  "language_info": {
   "codemirror_mode": {
    "name": "ipython",
    "version": 3
   },
   "file_extension": ".py",
   "mimetype": "text/x-python",
   "name": "python",
   "nbconvert_exporter": "python",
   "pygments_lexer": "ipython3",
   "version": "3.12.7"
  }
 },
 "nbformat": 4,
 "nbformat_minor": 5
}
