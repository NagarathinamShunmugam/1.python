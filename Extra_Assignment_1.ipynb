{
 "cells": [
  {
   "cell_type": "code",
   "execution_count": 11,
   "id": "69567369-e7b7-497e-8ee3-2917250725cb",
   "metadata": {},
   "outputs": [
    {
     "name": "stdout",
     "output_type": "stream",
     "text": [
      "HOPE AI\n"
     ]
    }
   ],
   "source": [
    "#print statement\n",
    "print(\"HOPE AI\")"
   ]
  },
  {
   "cell_type": "code",
   "execution_count": null,
   "id": "3f19a89b-f248-46fd-b07e-05841db30206",
   "metadata": {},
   "outputs": [],
   "source": []
  },
  {
   "cell_type": "code",
   "execution_count": 13,
   "id": "669a37b4-43af-4f89-8dd1-9a83a567e35c",
   "metadata": {},
   "outputs": [
    {
     "name": "stdin",
     "output_type": "stream",
     "text": [
      "Enter your Institute name? : HOPE AI\n"
     ]
    }
   ],
   "source": [
    "#Buy Input\n",
    "Inst=input(\"Enter your Institute name? :\")"
   ]
  },
  {
   "cell_type": "code",
   "execution_count": null,
   "id": "68d658e3-6b3e-4d3b-8e58-e30436921d50",
   "metadata": {},
   "outputs": [],
   "source": []
  },
  {
   "cell_type": "code",
   "execution_count": 9,
   "id": "d76e8a90-34f1-4119-b9cd-c0ba56775eae",
   "metadata": {},
   "outputs": [
    {
     "name": "stdin",
     "output_type": "stream",
     "text": [
      "Enter your name: Naga S\n",
      "Enter your age: 30\n",
      "Enter your school name: TVHSS school\n",
      "Enter your degree: BE EIE\n"
     ]
    }
   ],
   "source": [
    "#Buy Inputs\n",
    "name=input(\"Enter your name:\")\n",
    "age=int(input(\"Enter your age:\"))\n",
    "School=input(\"Enter your school name:\")\n",
    "Degree=input(\"Enter your degree:\")"
   ]
  },
  {
   "cell_type": "code",
   "execution_count": null,
   "id": "761fec33-16e6-4bda-a40a-0f907cf15993",
   "metadata": {},
   "outputs": [],
   "source": []
  },
  {
   "cell_type": "code",
   "execution_count": 15,
   "id": "37e9316b-e927-48e6-98fe-51ba401f3158",
   "metadata": {},
   "outputs": [
    {
     "name": "stdin",
     "output_type": "stream",
     "text": [
      "a= 34\n",
      "b= 54\n"
     ]
    },
    {
     "name": "stdout",
     "output_type": "stream",
     "text": [
      "add= 88\n"
     ]
    }
   ],
   "source": [
    "#ADDITION\n",
    "A=int(input(\"a=\"))\n",
    "B=int(input(\"b=\"))\n",
    "print(\"add=\",A+B)"
   ]
  },
  {
   "cell_type": "code",
   "execution_count": 17,
   "id": "d93d4ddc-abbb-47a9-93e2-0828718f8ef6",
   "metadata": {},
   "outputs": [
    {
     "name": "stdin",
     "output_type": "stream",
     "text": [
      "a= 76\n",
      "b= 98\n"
     ]
    },
    {
     "name": "stdout",
     "output_type": "stream",
     "text": [
      "Sub= -22\n"
     ]
    }
   ],
   "source": [
    "#Subtraction\n",
    "A=int(input(\"a=\"))\n",
    "B=int(input(\"b=\"))\n",
    "print(\"Sub=\",A-B)"
   ]
  },
  {
   "cell_type": "code",
   "execution_count": 1,
   "id": "4df821f0-808b-4c07-82da-663247d12837",
   "metadata": {},
   "outputs": [
    {
     "name": "stdin",
     "output_type": "stream",
     "text": [
      "a= 89\n",
      "b= 45\n"
     ]
    },
    {
     "name": "stdout",
     "output_type": "stream",
     "text": [
      "Mul= 4005\n"
     ]
    }
   ],
   "source": [
    "#multiplication\n",
    "A=int(input(\"a=\"))\n",
    "B=int(input(\"b=\"))\n",
    "print(\"Mul=\",A*B)"
   ]
  },
  {
   "cell_type": "code",
   "execution_count": 13,
   "id": "38927561-6ff9-4540-a264-9a59e6b3c196",
   "metadata": {},
   "outputs": [
    {
     "name": "stdin",
     "output_type": "stream",
     "text": [
      "a= 76\n",
      "b= 31\n"
     ]
    },
    {
     "name": "stdout",
     "output_type": "stream",
     "text": [
      " float Div= 2.4516129032258065\n"
     ]
    }
   ],
   "source": [
    "#division\n",
    "A=int(input(\"a=\"))\n",
    "B=int(input(\"b=\"))\n",
    "print(\" float Div=\",A/B)"
   ]
  },
  {
   "cell_type": "code",
   "execution_count": 15,
   "id": "eb34d96f-722b-4318-a88d-47636a350266",
   "metadata": {},
   "outputs": [
    {
     "name": "stdin",
     "output_type": "stream",
     "text": [
      "a= 76\n",
      "b= 31\n"
     ]
    },
    {
     "name": "stdout",
     "output_type": "stream",
     "text": [
      " floor Div= 2\n"
     ]
    }
   ],
   "source": [
    "#floor division\n",
    "A=int(input(\"a=\"))\n",
    "B=int(input(\"b=\"))\n",
    "print(\" floor Div=\",A//B)"
   ]
  },
  {
   "cell_type": "code",
   "execution_count": 17,
   "id": "513a6e97-3660-4125-81c5-844796914448",
   "metadata": {},
   "outputs": [
    {
     "name": "stdin",
     "output_type": "stream",
     "text": [
      "a= 76\n",
      "b= 31\n"
     ]
    },
    {
     "name": "stdout",
     "output_type": "stream",
     "text": [
      " Modulo = 14\n"
     ]
    }
   ],
   "source": [
    "#Modulo\n",
    "A=int(input(\"a=\"))\n",
    "B=int(input(\"b=\"))\n",
    "print(\" Modulo =\",A%B)"
   ]
  },
  {
   "cell_type": "code",
   "execution_count": 21,
   "id": "af6c6d70-97ac-47a9-a57a-b9b6ad75a40c",
   "metadata": {},
   "outputs": [
    {
     "name": "stdin",
     "output_type": "stream",
     "text": [
      "a= 4\n",
      "b= 4\n"
     ]
    },
    {
     "name": "stdout",
     "output_type": "stream",
     "text": [
      " Power = 256\n"
     ]
    }
   ],
   "source": [
    "#Power\n",
    "A=int(input(\"a=\"))\n",
    "B=int(input(\"b=\"))\n",
    "print(\" Power =\",A**B)"
   ]
  },
  {
   "cell_type": "code",
   "execution_count": null,
   "id": "7d06578b-bb69-4e0c-a771-15ed61def65f",
   "metadata": {},
   "outputs": [],
   "source": []
  },
  {
   "cell_type": "code",
   "execution_count": null,
   "id": "3f2683c8-2d26-43bf-b8d1-6d42edfcc76b",
   "metadata": {},
   "outputs": [],
   "source": []
  },
  {
   "cell_type": "code",
   "execution_count": null,
   "id": "b1347305-5c85-4f6d-9fda-c26f1d924579",
   "metadata": {},
   "outputs": [],
   "source": []
  },
  {
   "cell_type": "code",
   "execution_count": null,
   "id": "77ab9e31-33e8-4a1b-b037-09a9be36ff25",
   "metadata": {},
   "outputs": [],
   "source": []
  },
  {
   "cell_type": "code",
   "execution_count": null,
   "id": "fdb4840b-a15b-45a5-858b-b62c28b3515d",
   "metadata": {},
   "outputs": [],
   "source": []
  },
  {
   "cell_type": "code",
   "execution_count": null,
   "id": "5a37a780-d8bd-41fc-b044-07b641fdec13",
   "metadata": {},
   "outputs": [],
   "source": []
  }
 ],
 "metadata": {
  "kernelspec": {
   "display_name": "Python 3 (ipykernel)",
   "language": "python",
   "name": "python3"
  },
  "language_info": {
   "codemirror_mode": {
    "name": "ipython",
    "version": 3
   },
   "file_extension": ".py",
   "mimetype": "text/x-python",
   "name": "python",
   "nbconvert_exporter": "python",
   "pygments_lexer": "ipython3",
   "version": "3.12.7"
  }
 },
 "nbformat": 4,
 "nbformat_minor": 5
}
